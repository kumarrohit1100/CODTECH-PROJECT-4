{
 "cells": [
  {
   "cell_type": "markdown",
   "id": "e1eb988f",
   "metadata": {},
   "source": [
    "## Importing Libraries"
   ]
  },
  {
   "cell_type": "code",
   "execution_count": 5,
   "id": "919959e0",
   "metadata": {},
   "outputs": [
    {
     "name": "stderr",
     "output_type": "stream",
     "text": [
      "[nltk_data] Downloading package punkt to\n",
      "[nltk_data]     C:\\Users\\pc\\AppData\\Roaming\\nltk_data...\n",
      "[nltk_data]   Unzipping tokenizers\\punkt.zip.\n",
      "[nltk_data] Downloading package stopwords to\n",
      "[nltk_data]     C:\\Users\\pc\\AppData\\Roaming\\nltk_data...\n",
      "[nltk_data]   Package stopwords is already up-to-date!\n"
     ]
    },
    {
     "data": {
      "text/plain": [
       "True"
      ]
     },
     "execution_count": 5,
     "metadata": {},
     "output_type": "execute_result"
    }
   ],
   "source": [
    "import pandas as pd\n",
    "import numpy as np\n",
    "import re, string, nltk, seaborn as sns, matplotlib.pyplot as plt\n",
    "\n",
    "from nltk.corpus import stopwords\n",
    "from nltk.stem import PorterStemmer\n",
    "from sklearn.model_selection import train_test_split\n",
    "from sklearn.feature_extraction.text import TfidfVectorizer, CountVectorizer\n",
    "from sklearn.naive_bayes import MultinomialNB\n",
    "from sklearn.linear_model import LogisticRegression\n",
    "from sklearn.svm import LinearSVC\n",
    "from sklearn.metrics import (accuracy_score, precision_score, recall_score,\n",
    "                             f1_score, classification_report, confusion_matrix)\n",
    "\n",
    "# one-time NLTK downloads\n",
    "nltk.download('punkt')\n",
    "nltk.download('stopwords')"
   ]
  },
  {
   "cell_type": "markdown",
   "id": "9f184d70",
   "metadata": {},
   "source": [
    "## Load & Explore the Dataset"
   ]
  },
  {
   "cell_type": "code",
   "execution_count": 6,
   "id": "6af3e195",
   "metadata": {},
   "outputs": [
    {
     "data": {
      "text/html": [
       "<div>\n",
       "<style scoped>\n",
       "    .dataframe tbody tr th:only-of-type {\n",
       "        vertical-align: middle;\n",
       "    }\n",
       "\n",
       "    .dataframe tbody tr th {\n",
       "        vertical-align: top;\n",
       "    }\n",
       "\n",
       "    .dataframe thead th {\n",
       "        text-align: right;\n",
       "    }\n",
       "</style>\n",
       "<table border=\"1\" class=\"dataframe\">\n",
       "  <thead>\n",
       "    <tr style=\"text-align: right;\">\n",
       "      <th></th>\n",
       "      <th>text</th>\n",
       "      <th>airline_sentiment</th>\n",
       "    </tr>\n",
       "  </thead>\n",
       "  <tbody>\n",
       "    <tr>\n",
       "      <th>0</th>\n",
       "      <td>@VirginAmerica What @dhepburn said.</td>\n",
       "      <td>neutral</td>\n",
       "    </tr>\n",
       "    <tr>\n",
       "      <th>1</th>\n",
       "      <td>@VirginAmerica plus you've added commercials t...</td>\n",
       "      <td>positive</td>\n",
       "    </tr>\n",
       "    <tr>\n",
       "      <th>2</th>\n",
       "      <td>@VirginAmerica I didn't today... Must mean I n...</td>\n",
       "      <td>neutral</td>\n",
       "    </tr>\n",
       "    <tr>\n",
       "      <th>3</th>\n",
       "      <td>@VirginAmerica it's really aggressive to blast...</td>\n",
       "      <td>negative</td>\n",
       "    </tr>\n",
       "    <tr>\n",
       "      <th>4</th>\n",
       "      <td>@VirginAmerica and it's a really big bad thing...</td>\n",
       "      <td>negative</td>\n",
       "    </tr>\n",
       "  </tbody>\n",
       "</table>\n",
       "</div>"
      ],
      "text/plain": [
       "                                                text airline_sentiment\n",
       "0                @VirginAmerica What @dhepburn said.           neutral\n",
       "1  @VirginAmerica plus you've added commercials t...          positive\n",
       "2  @VirginAmerica I didn't today... Must mean I n...           neutral\n",
       "3  @VirginAmerica it's really aggressive to blast...          negative\n",
       "4  @VirginAmerica and it's a really big bad thing...          negative"
      ]
     },
     "execution_count": 6,
     "metadata": {},
     "output_type": "execute_result"
    }
   ],
   "source": [
    "# Replace the path with your own if needed\n",
    "csv_path = \"Tweets.csv\"      # file inside the Kaggle download\n",
    "df = pd.read_csv(\"Tweets.csv\")\n",
    "\n",
    "# Keep only tweet text and sentiment label\n",
    "df = df[['text', 'airline_sentiment']]\n",
    "df.head()\n"
   ]
  },
  {
   "cell_type": "code",
   "execution_count": 7,
   "id": "ec6f08de",
   "metadata": {},
   "outputs": [
    {
     "name": "stdout",
     "output_type": "stream",
     "text": [
      "Rows: 14640\n",
      "Columns: 2\n",
      "\n",
      "Sentiment distribution:\n"
     ]
    },
    {
     "data": {
      "text/plain": [
       "airline_sentiment\n",
       "negative    9178\n",
       "neutral     3099\n",
       "positive    2363\n",
       "Name: count, dtype: int64"
      ]
     },
     "metadata": {},
     "output_type": "display_data"
    }
   ],
   "source": [
    "print(f\"Rows: {df.shape[0]}\\nColumns: {df.shape[1]}\")\n",
    "print(\"\\nSentiment distribution:\")\n",
    "display(df['airline_sentiment'].value_counts())"
   ]
  },
  {
   "cell_type": "markdown",
   "id": "3721e52f",
   "metadata": {},
   "source": [
    "## Text Cleaning & Pre-processing"
   ]
  },
  {
   "cell_type": "code",
   "execution_count": 8,
   "id": "271db114",
   "metadata": {},
   "outputs": [
    {
     "data": {
      "text/html": [
       "<div>\n",
       "<style scoped>\n",
       "    .dataframe tbody tr th:only-of-type {\n",
       "        vertical-align: middle;\n",
       "    }\n",
       "\n",
       "    .dataframe tbody tr th {\n",
       "        vertical-align: top;\n",
       "    }\n",
       "\n",
       "    .dataframe thead th {\n",
       "        text-align: right;\n",
       "    }\n",
       "</style>\n",
       "<table border=\"1\" class=\"dataframe\">\n",
       "  <thead>\n",
       "    <tr style=\"text-align: right;\">\n",
       "      <th></th>\n",
       "      <th>text</th>\n",
       "      <th>clean_text</th>\n",
       "    </tr>\n",
       "  </thead>\n",
       "  <tbody>\n",
       "    <tr>\n",
       "      <th>0</th>\n",
       "      <td>@VirginAmerica What @dhepburn said.</td>\n",
       "      <td>virginamerica dhepburn said</td>\n",
       "    </tr>\n",
       "    <tr>\n",
       "      <th>1</th>\n",
       "      <td>@VirginAmerica plus you've added commercials t...</td>\n",
       "      <td>virginamerica plu ad commerci experi tacki</td>\n",
       "    </tr>\n",
       "    <tr>\n",
       "      <th>2</th>\n",
       "      <td>@VirginAmerica I didn't today... Must mean I n...</td>\n",
       "      <td>virginamerica today must mean need take anoth ...</td>\n",
       "    </tr>\n",
       "    <tr>\n",
       "      <th>3</th>\n",
       "      <td>@VirginAmerica it's really aggressive to blast...</td>\n",
       "      <td>virginamerica realli aggress blast obnoxi ente...</td>\n",
       "    </tr>\n",
       "    <tr>\n",
       "      <th>4</th>\n",
       "      <td>@VirginAmerica and it's a really big bad thing...</td>\n",
       "      <td>virginamerica realli big bad thing</td>\n",
       "    </tr>\n",
       "  </tbody>\n",
       "</table>\n",
       "</div>"
      ],
      "text/plain": [
       "                                                text  \\\n",
       "0                @VirginAmerica What @dhepburn said.   \n",
       "1  @VirginAmerica plus you've added commercials t...   \n",
       "2  @VirginAmerica I didn't today... Must mean I n...   \n",
       "3  @VirginAmerica it's really aggressive to blast...   \n",
       "4  @VirginAmerica and it's a really big bad thing...   \n",
       "\n",
       "                                          clean_text  \n",
       "0                        virginamerica dhepburn said  \n",
       "1         virginamerica plu ad commerci experi tacki  \n",
       "2  virginamerica today must mean need take anoth ...  \n",
       "3  virginamerica realli aggress blast obnoxi ente...  \n",
       "4                 virginamerica realli big bad thing  "
      ]
     },
     "execution_count": 8,
     "metadata": {},
     "output_type": "execute_result"
    }
   ],
   "source": [
    "class TextPreprocessor:\n",
    "    def __init__(self):\n",
    "        self.stop_words = set(stopwords.words('english'))\n",
    "        self.stemmer = PorterStemmer()\n",
    "\n",
    "    def clean(self, text: str) -> str:\n",
    "        text = text.lower()\n",
    "        text = re.sub(r\"http\\\\S+|www\\\\S+\", \" \", text)           # URLs\n",
    "        text = re.sub(r\"@\\\\w+|#\\\\w+\", \" \", text)                # @mentions & hashtags\n",
    "        text = re.sub(r\"[^a-z\\\\s]\", \" \", text)                  # punctuation / numbers\n",
    "        text = re.sub(r\"\\\\s+\", \" \", text).strip()               # extra spaces\n",
    "        return text\n",
    "\n",
    "    def remove_stopwords(self, text: str) -> str:\n",
    "        return \" \".join([w for w in text.split() if w not in self.stop_words])\n",
    "\n",
    "    def stem(self, text: str) -> str:\n",
    "        return \" \".join([self.stemmer.stem(w) for w in text.split()])\n",
    "\n",
    "    def transform(self, text: str) -> str:\n",
    "        text = self.clean(text)\n",
    "        text = self.remove_stopwords(text)\n",
    "        text = self.stem(text)\n",
    "        return text\n",
    "\n",
    "tp = TextPreprocessor()\n",
    "df['clean_text'] = df['text'].apply(tp.transform)\n",
    "df[['text', 'clean_text']].head()"
   ]
  },
  {
   "cell_type": "markdown",
   "id": "5beeee70",
   "metadata": {},
   "source": [
    "## Train / Test Split"
   ]
  },
  {
   "cell_type": "code",
   "execution_count": 10,
   "id": "aa1a70eb",
   "metadata": {},
   "outputs": [],
   "source": [
    "X = df['clean_text']\n",
    "y = df['airline_sentiment']\n",
    "X_train, X_test, y_train, y_test = train_test_split(\n",
    "    X, y, test_size=0.3, random_state=42, stratify=y)"
   ]
  },
  {
   "cell_type": "code",
   "execution_count": 11,
   "id": "5f2f2600",
   "metadata": {},
   "outputs": [],
   "source": [
    "## Vectorization"
   ]
  },
  {
   "cell_type": "code",
   "execution_count": 12,
   "id": "54bb0759",
   "metadata": {},
   "outputs": [],
   "source": [
    "tfidf_vec  = TfidfVectorizer(max_features=5000, ngram_range=(1,2))\n",
    "count_vec  = CountVectorizer(max_features=5000, ngram_range=(1,2))\n",
    "\n",
    "Xtr_tfidf, Xts_tfidf = tfidf_vec.fit_transform(X_train), tfidf_vec.transform(X_test)\n",
    "Xtr_cnt , Xts_cnt   = count_vec.fit_transform(X_train),  count_vec.transform(X_test)"
   ]
  },
  {
   "cell_type": "markdown",
   "id": "775be318",
   "metadata": {},
   "source": [
    "## Model Training & Evaluation Helper"
   ]
  },
  {
   "cell_type": "code",
   "execution_count": 13,
   "id": "fd638a5e",
   "metadata": {},
   "outputs": [],
   "source": [
    "def evaluate(model, Xtr, ytr, Xts, yts):\n",
    "    model.fit(Xtr, ytr)\n",
    "    preds = model.predict(Xts)\n",
    "    return {\n",
    "        \"Accuracy\" : accuracy_score(yts, preds),\n",
    "        \"Precision\": precision_score(yts, preds, average='weighted', zero_division=0),\n",
    "        \"Recall\"   : recall_score(yts, preds, average='weighted', zero_division=0),\n",
    "        \"F1\"       : f1_score(yts, preds, average='weighted', zero_division=0),\n",
    "        \"Model\"    : model.__class__.__name__\n",
    "    }"
   ]
  },
  {
   "cell_type": "markdown",
   "id": "4bdd3bb7",
   "metadata": {},
   "source": [
    "## Run Experiments"
   ]
  },
  {
   "cell_type": "code",
   "execution_count": 14,
   "id": "501129e2",
   "metadata": {},
   "outputs": [
    {
     "data": {
      "text/html": [
       "<div>\n",
       "<style scoped>\n",
       "    .dataframe tbody tr th:only-of-type {\n",
       "        vertical-align: middle;\n",
       "    }\n",
       "\n",
       "    .dataframe tbody tr th {\n",
       "        vertical-align: top;\n",
       "    }\n",
       "\n",
       "    .dataframe thead th {\n",
       "        text-align: right;\n",
       "    }\n",
       "</style>\n",
       "<table border=\"1\" class=\"dataframe\">\n",
       "  <thead>\n",
       "    <tr style=\"text-align: right;\">\n",
       "      <th></th>\n",
       "      <th>Accuracy</th>\n",
       "      <th>Precision</th>\n",
       "      <th>Recall</th>\n",
       "      <th>F1</th>\n",
       "      <th>Model</th>\n",
       "      <th>Vectorizer</th>\n",
       "    </tr>\n",
       "  </thead>\n",
       "  <tbody>\n",
       "    <tr>\n",
       "      <th>4</th>\n",
       "      <td>0.783925</td>\n",
       "      <td>0.779994</td>\n",
       "      <td>0.783925</td>\n",
       "      <td>0.781243</td>\n",
       "      <td>LogisticRegression</td>\n",
       "      <td>Count</td>\n",
       "    </tr>\n",
       "    <tr>\n",
       "      <th>1</th>\n",
       "      <td>0.786202</td>\n",
       "      <td>0.777232</td>\n",
       "      <td>0.786202</td>\n",
       "      <td>0.774288</td>\n",
       "      <td>LogisticRegression</td>\n",
       "      <td>TF-IDF</td>\n",
       "    </tr>\n",
       "    <tr>\n",
       "      <th>2</th>\n",
       "      <td>0.771630</td>\n",
       "      <td>0.763139</td>\n",
       "      <td>0.771630</td>\n",
       "      <td>0.765631</td>\n",
       "      <td>LinearSVC</td>\n",
       "      <td>TF-IDF</td>\n",
       "    </tr>\n",
       "    <tr>\n",
       "      <th>3</th>\n",
       "      <td>0.767760</td>\n",
       "      <td>0.761878</td>\n",
       "      <td>0.767760</td>\n",
       "      <td>0.764248</td>\n",
       "      <td>MultinomialNB</td>\n",
       "      <td>Count</td>\n",
       "    </tr>\n",
       "    <tr>\n",
       "      <th>5</th>\n",
       "      <td>0.755237</td>\n",
       "      <td>0.753616</td>\n",
       "      <td>0.755237</td>\n",
       "      <td>0.754236</td>\n",
       "      <td>LinearSVC</td>\n",
       "      <td>Count</td>\n",
       "    </tr>\n",
       "    <tr>\n",
       "      <th>0</th>\n",
       "      <td>0.744763</td>\n",
       "      <td>0.752132</td>\n",
       "      <td>0.744763</td>\n",
       "      <td>0.706772</td>\n",
       "      <td>MultinomialNB</td>\n",
       "      <td>TF-IDF</td>\n",
       "    </tr>\n",
       "  </tbody>\n",
       "</table>\n",
       "</div>"
      ],
      "text/plain": [
       "   Accuracy  Precision    Recall        F1               Model Vectorizer\n",
       "4  0.783925   0.779994  0.783925  0.781243  LogisticRegression      Count\n",
       "1  0.786202   0.777232  0.786202  0.774288  LogisticRegression     TF-IDF\n",
       "2  0.771630   0.763139  0.771630  0.765631           LinearSVC     TF-IDF\n",
       "3  0.767760   0.761878  0.767760  0.764248       MultinomialNB      Count\n",
       "5  0.755237   0.753616  0.755237  0.754236           LinearSVC      Count\n",
       "0  0.744763   0.752132  0.744763  0.706772       MultinomialNB     TF-IDF"
      ]
     },
     "execution_count": 14,
     "metadata": {},
     "output_type": "execute_result"
    }
   ],
   "source": [
    "results = []\n",
    "\n",
    "for name, (Xtr, Xts) in {\"TF-IDF\": (Xtr_tfidf, Xts_tfidf),\n",
    "                         \"Count\":  (Xtr_cnt , Xts_cnt )}.items():\n",
    "\n",
    "    for clf in [MultinomialNB(), \n",
    "                LogisticRegression(max_iter=1000, random_state=42),\n",
    "                LinearSVC(max_iter=1000, random_state=42)]:\n",
    "\n",
    "        res = evaluate(clf, Xtr, y_train, Xts, y_test)\n",
    "        res[\"Vectorizer\"] = name\n",
    "        results.append(res)\n",
    "\n",
    "results_df = pd.DataFrame(results).sort_values(\"F1\", ascending=False)\n",
    "results_df\n"
   ]
  },
  {
   "cell_type": "markdown",
   "id": "6819205f",
   "metadata": {},
   "source": [
    "## Best Model Analysis"
   ]
  },
  {
   "cell_type": "code",
   "execution_count": 18,
   "id": "e453c174",
   "metadata": {},
   "outputs": [
    {
     "name": "stdout",
     "output_type": "stream",
     "text": [
      "Accuracy                0.783925\n",
      "Precision               0.779994\n",
      "Recall                  0.783925\n",
      "F1                      0.781243\n",
      "Model         LogisticRegression\n",
      "Vectorizer                 Count\n",
      "Name: 4, dtype: object\n",
      "              precision    recall  f1-score   support\n",
      "\n",
      "    negative       0.85      0.88      0.87      2753\n",
      "     neutral       0.60      0.58      0.59       930\n",
      "    positive       0.75      0.66      0.70       709\n",
      "\n",
      "    accuracy                           0.78      4392\n",
      "   macro avg       0.73      0.71      0.72      4392\n",
      "weighted avg       0.78      0.78      0.78      4392\n",
      "\n"
     ]
    }
   ],
   "source": [
    "best_row = results_df.iloc[0]\n",
    "print(best_row)\n",
    "\n",
    "# Retrain best model on full training data\n",
    "best_vec  = tfidf_vec if best_row[\"Vectorizer\"] == \"TF-IDF\" else count_vec\n",
    "best_Xtr  = Xtr_tfidf if best_row[\"Vectorizer\"] == \"TF-IDF\" else Xtr_cnt\n",
    "best_Xts  = Xts_tfidf if best_row[\"Vectorizer\"] == \"TF-IDF\" else Xts_cnt\n",
    "best_clf  = MultinomialNB() if best_row[\"Model\"] == \"MultinomialNB\" else \\\n",
    "            LogisticRegression(max_iter=1000, random_state=42) if best_row[\"Model\"]==\"LogisticRegression\" else \\\n",
    "            LinearSVC(max_iter=1000, random_state=42)\n",
    "\n",
    "best_clf.fit(best_Xtr, y_train)\n",
    "y_pred = best_clf.predict(best_Xts)\n",
    "\n",
    "print(classification_report(y_test, y_pred))\n"
   ]
  },
  {
   "cell_type": "markdown",
   "id": "3b3fcb9a",
   "metadata": {},
   "source": [
    "## Visualizatiion"
   ]
  },
  {
   "cell_type": "code",
   "execution_count": 19,
   "id": "09a6f036",
   "metadata": {},
   "outputs": [
    {
     "data": {
      "image/png": "[encoded data removed]",
      "text/plain": [
       "<Figure size 640x480 with 2 Axes>"
      ]
     },
     "metadata": {},
     "output_type": "display_data"
    }
   ],
   "source": [
    "sns.heatmap(confusion_matrix(y_test, y_pred),\n",
    "            annot=True, fmt=\"d\", cmap=\"Blues\",\n",
    "            xticklabels=best_clf.classes_,\n",
    "            yticklabels=best_clf.classes_)\n",
    "plt.title(\"Confusion Matrix – Best Model\")\n",
    "plt.show()"
   ]
  },
  {
   "cell_type": "markdown",
   "id": "cea8edd4",
   "metadata": {},
   "source": [
    "## Naive Bayes"
   ]
  },
  {
   "cell_type": "code",
   "execution_count": 16,
   "id": "61ead584",
   "metadata": {},
   "outputs": [],
   "source": [
    "if isinstance(best_clf, MultinomialNB):\n",
    "    log_probs = best_clf.feature_log_prob_\n",
    "    features  = np.array(best_vec.get_feature_names_out())\n",
    "\n",
    "    for i, label in enumerate(best_clf.classes_):\n",
    "        top = log_probs[i].argsort()[-10:][::-1]\n",
    "        print(f\"\\nTop terms for '{label}':\")\n",
    "        for t in features[top]:\n",
    "            print(f\"  {t}\")"
   ]
  },
  {
   "cell_type": "markdown",
   "id": "9309a210",
   "metadata": {},
   "source": [
    "## Key Insight"
   ]
  },
  {
   "cell_type": "code",
   "execution_count": 17,
   "id": "af9194b3",
   "metadata": {},
   "outputs": [
    {
     "name": "stdout",
     "output_type": "stream",
     "text": [
      "Key Take-aways:\n",
      "• Class imbalance:  {'negative': 9178, 'neutral': 3099, 'positive': 2363}\n",
      "• Best vectorizer-model combo from grid above.\n",
      "• Frequent negative tokens typically relate to delays, \"worst\", \"terrible\" etc.\n",
      "• Positive tweets emphasise staff friendliness, on-time performance.\n"
     ]
    }
   ],
   "source": [
    "print(\"Key Take-aways:\")\n",
    "print(\"• Class imbalance: \", df['airline_sentiment'].value_counts().to_dict())\n",
    "print(\"• Best vectorizer-model combo from grid above.\")\n",
    "print(\"• Frequent negative tokens typically relate to delays, \\\"worst\\\", \\\"terrible\\\" etc.\")\n",
    "print(\"• Positive tweets emphasise staff friendliness, on-time performance.\")\n"
   ]
  },
  {
   "cell_type": "code",
   "execution_count": null,
   "id": "284daf2f",
   "metadata": {},
   "outputs": [],
   "source": []
  }
 ],
 "metadata": {
  "kernelspec": {
   "display_name": "Python 3",
   "language": "python",
   "name": "python3"
  },
  "language_info": {
   "codemirror_mode": {
    "name": "ipython",
    "version": 3
   },
   "file_extension": ".py",
   "mimetype": "text/x-python",
   "name": "python",
   "nbconvert_exporter": "python",
   "pygments_lexer": "ipython3",
   "version": "3.11.9"
  }
 },
 "nbformat": 4,
 "nbformat_minor": 5
}
